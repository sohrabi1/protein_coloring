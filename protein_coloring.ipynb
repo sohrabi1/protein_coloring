{
 "cells": [
  {
   "cell_type": "markdown",
   "metadata": {},
   "source": [
    "## Easy visualization of protein sequences in jupyter notebook"
   ]
  },
  {
   "cell_type": "code",
   "execution_count": 1,
   "metadata": {},
   "outputs": [],
   "source": [
    "import numpy as np\n",
    "import pandas as pd\n",
    "import os\n",
    "from IPython.display import display, HTML\n",
    "from ipywidgets import interact, interactive, fixed, interact_manual\n",
    "import ipywidgets as widgets\n",
    "from Bio import SeqIO"
   ]
  },
  {
   "cell_type": "code",
   "execution_count": 2,
   "metadata": {},
   "outputs": [],
   "source": [
    "#read sequences from fasta file\n",
    "fasta_sequences = SeqIO.parse(open('proteins.fasta'),'fasta')\n",
    "headers = []\n",
    "sequences = []\n",
    "for fasta in fasta_sequences:\n",
    "    sequences.append(str(fasta.seq))\n",
    "    headers.append(fasta.id)"
   ]
  },
  {
   "cell_type": "code",
   "execution_count": 3,
   "metadata": {},
   "outputs": [],
   "source": [
    "#write your favorite color coding scheme\n",
    "\n",
    "small = '#f4aa42'\n",
    "hydrophobe = '#66b77b'\n",
    "aromat = '#30f2f2'\n",
    "polar = '#ff6df0'\n",
    "negative = '#8682ff'\n",
    "positive = '#ff4949'\n",
    "\n",
    "aa_color_salma = {\n",
    "    'R':positive,\n",
    "    'K':positive,\n",
    "    'H':positive,\n",
    "    'E':negative,\n",
    "    'D':negative,\n",
    "    'F':aromat,\n",
    "    'W':aromat,\n",
    "    'Y':aromat,\n",
    "    'I':hydrophobe,\n",
    "    'L':hydrophobe,\n",
    "    'M':hydrophobe,\n",
    "    'V':hydrophobe\n",
    "}\n",
    "\n",
    "\n",
    "aa_color_lesk = {\n",
    "    'G':small,\n",
    "    'A':small,\n",
    "    'S':small,\n",
    "    'T':small,\n",
    "    'C':hydrophobe,\n",
    "    'V':hydrophobe,\n",
    "    'I':hydrophobe,\n",
    "    'L':hydrophobe,\n",
    "    'P':hydrophobe,\n",
    "    'M':hydrophobe,\n",
    "    'F':aromat,\n",
    "    'W':aromat,\n",
    "    'Y':aromat,\n",
    "    'N':polar,\n",
    "    'Q':polar,\n",
    "    'H':polar,\n",
    "    'D':negative,\n",
    "    'E':negative,\n",
    "    'K':positive,\n",
    "    'R':positive\n",
    "}\n",
    "\n",
    "aa_color_rasmol = {\n",
    "    'D':negative,\n",
    "    'E':negative,\n",
    "    'K':positive,\n",
    "    'R':positive,\n",
    "    'F':'#3232aa',\n",
    "    'Y':'#3232aa',\n",
    "    'G':'#ebebeb',\n",
    "    'A':'#c8c8c8',\n",
    "    'H':'#8282d2',\n",
    "    'C':'#e6e600',\n",
    "    'M':'#e6e600',\n",
    "    'S':'#fa9600',\n",
    "    'T':'#fa9600',\n",
    "    'N':'#00dcdc',\n",
    "    'Q':'#00dcdc',\n",
    "    'L':hydrophobe,\n",
    "    'V':hydrophobe,\n",
    "    'I':hydrophobe,\n",
    "    'W':'#b45ab4',\n",
    "    'P':'#dc9682',\n",
    "}"
   ]
  },
  {
   "cell_type": "code",
   "execution_count": 4,
   "metadata": {},
   "outputs": [],
   "source": [
    "#write out the sequences in html format according to the chosen coloring pattern\n",
    "\n",
    "def display_seq(color_code):\n",
    "  \n",
    "    text=''\n",
    "    #text += 'body {font-family:monospace;font-size:12pt}'\n",
    "    text += '<p style=\"font-family:monospace;font-size:12pt\">'\n",
    "\n",
    "    if color_code=='Lesk':\n",
    "        aa_color=aa_color_lesk\n",
    "        \n",
    "        text += '<span style=\"background-color: %s\">small</span><br />'%small\n",
    "        text += '<span style=\"background-color: %s\">polar</span><br />'%polar\n",
    "        text += '<span style=\"background-color: %s\">aromatic</span><br />'%aromat\n",
    "        text += '<span style=\"background-color: %s\">positive</span><br />'%positive\n",
    "        text += '<span style=\"background-color: %s\">negative</span><br />'%negative\n",
    "        text += '<span style=\"background-color: %s\">hydrophobe</span><br />'%hydrophobe\n",
    "        text += '<br />'\n",
    "        \n",
    "    elif color_code=='RasMol':\n",
    "        aa_color=aa_color_rasmol\n",
    "        for key in aa_color_rasmol.keys():\n",
    "            text += '<span style=\"background-color: %s\">%s</span>'%(aa_color_rasmol[key],key)\n",
    "        text += '<br /><br />'\n",
    "        \n",
    "    else:\n",
    "        aa_color=aa_color_salma\n",
    "        \n",
    "        text += '<span style=\"background-color: %s\">aromatic</span><br />'%aromat\n",
    "        text += '<span style=\"background-color: %s\">positive</span><br />'%positive\n",
    "        text += '<span style=\"background-color: %s\">negative</span><br />'%negative\n",
    "        text += '<span style=\"background-color: %s\">hydrophobe</span><br />'%hydrophobe\n",
    "        text += '<br />'\n",
    "\n",
    "    for i in range(len(sequences)):\n",
    "        \n",
    "        seq = sequences[i]\n",
    "        header = headers[i]\n",
    "        \n",
    "        text += '%s<br />'%header\n",
    "        \n",
    "        for j,amino in enumerate(list(seq)):\n",
    "            aa = amino.upper()\n",
    "            if j%80==0:\n",
    "                text += '<br />'\n",
    "            text += '<span style=\"background-color: %s\">%s</span>'%(aa_color.setdefault(aa, '#ffffff'),aa)\n",
    "            \n",
    "        text += '<br /><br />'\n",
    "\n",
    "    text += '</p>'\n",
    "\n",
    "    display(HTML(text))"
   ]
  },
  {
   "cell_type": "code",
   "execution_count": 5,
   "metadata": {},
   "outputs": [
    {
     "data": {
      "application/vnd.jupyter.widget-view+json": {
       "model_id": "c4fc8666f80f4576a4469b950ba05064",
       "version_major": 2,
       "version_minor": 0
      },
      "text/plain": [
       "interactive(children=(Dropdown(description='color_code', options=('Salma', 'Lesk', 'RasMol'), value='Salma'), …"
      ]
     },
     "metadata": {},
     "output_type": "display_data"
    },
    {
     "data": {
      "text/plain": [
       "<function __main__.display_seq(color_code)>"
      ]
     },
     "execution_count": 5,
     "metadata": {},
     "output_type": "execute_result"
    }
   ],
   "source": [
    "interact(display_seq, color_code=['Salma','Lesk', 'RasMol'])"
   ]
  }
 ],
 "metadata": {
  "kernelspec": {
   "display_name": "Python 3",
   "language": "python",
   "name": "python3"
  },
  "language_info": {
   "codemirror_mode": {
    "name": "ipython",
    "version": 3
   },
   "file_extension": ".py",
   "mimetype": "text/x-python",
   "name": "python",
   "nbconvert_exporter": "python",
   "pygments_lexer": "ipython3",
   "version": "3.6.7"
  }
 },
 "nbformat": 4,
 "nbformat_minor": 2
}
